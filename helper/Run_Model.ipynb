{
 "cells": [
  {
   "cell_type": "code",
   "execution_count": 1,
   "metadata": {},
   "outputs": [],
   "source": [
    "import os\n",
    "import pandas as pd\n",
    "import time\n",
    "import numpy as np\n",
    "from matplotlib import pyplot as plt\n",
    "import itertools\n",
    "import numpy as np\n",
    "from scipy import stats\n",
    "import pylab as pl\n",
    "from sklearn import svm, linear_model\n",
    "from sklearn.model_selection import cross_validate\n",
    "from collections import OrderedDict\n",
    "from scipy import linalg\n",
    "from sklearn.preprocessing import StandardScaler"
   ]
  },
  {
   "cell_type": "code",
   "execution_count": null,
   "metadata": {},
   "outputs": [],
   "source": [
    "#Read the pickel objects\n",
    "\n",
    "path_to_save=\"D:\\\\Courses\\\\InfoStorage\\\\Project\\\\Data\\\\Numpy_Objects\\\\\"\n",
    "\n",
    "X = pd.read_pickle(path_to_save+\"AllFeaturesCombined.pkl\")\n",
    "Train = pd.read_pickle(path_to_save+\"Train.pkl\")\n",
    "Test= pd.read_pickle(path_to_save+\"Test.pkl\")\n",
    "train = np.loadtxt(path_to_save+'GraphFeatures100WithWord2VecEmbeddings8_train.txt')\n",
    "Xp = np.loadtxt(path_to_save+'GraphFeatures100WithWord2VecEmbeddingsAfterPairWise8_Xp.txt')\n",
    "yp = np.loadtxt(path_to_save+'GraphFeatures100WithWord2VecEmbeddingsAfterPairWise8_yp.txt')\n",
    "test = np.loadtxt(path_to_save+'GraphFeatures100WithWord2VecEmbeddings8_test.txt')\n",
    "query_item_order = np.loadtxt(path_to_save+'GraphFeatures100WithWord2VecEmbeddings8_query_item_order.txt')\n",
    "labels = np.loadtxt(path_to_save+'GraphFeatures100WithWord2VecEmbeddings8_labels.txt')\n",
    "query_item_order_test = np.loadtxt(path_to_save+'GraphFeatures100WithWord2VecEmbeddings8_query_item_order_test.txt')\n",
    "labels_test = np.loadtxt(path_to_save+'GraphFeatures100WithWord2VecEmbeddings8_labels_test.txt')"
   ]
  },
  {
   "cell_type": "code",
   "execution_count": null,
   "metadata": {},
   "outputs": [],
   "source": [
    "# Fit the Model\n",
    "clf = svm.SVC(kernel='linear', C=.1)\n",
    "clf.fit(Xp, yp)\n",
    "coef = clf.coef_.ravel() / linalg.norm(clf.coef_)"
   ]
  },
  {
   "cell_type": "code",
   "execution_count": null,
   "metadata": {},
   "outputs": [],
   "source": [
    "#perform the prediction \n",
    "pred= np.dot(test, coef)"
   ]
  },
  {
   "cell_type": "code",
   "execution_count": null,
   "metadata": {},
   "outputs": [],
   "source": [
    "# Process before Writing to a file\n",
    "print(pred.shape)\n",
    "print(len(pred))\n",
    "od=Test['queryId'].value_counts(sort=True, ascending=True)\n",
    "od = dict(od)\n",
    "od= OrderedDict(sorted(od.items()))"
   ]
  },
  {
   "cell_type": "code",
   "execution_count": null,
   "metadata": {},
   "outputs": [],
   "source": [
    "#Calculate the Scores and Get the order\n",
    "\n",
    "q_i={}\n",
    "\n",
    "s=0\n",
    "e=0\n",
    "for key in od:\n",
    "    s=e\n",
    "    e=s+od.get(key)\n",
    "    print(\"Start:%d, End %d\" %(s,e))\n",
    "    subset= query_item_order_test[s:e]\n",
    "    query_item_order=[]\n",
    "    query_item_score=[]\n",
    "    for item in subset:\n",
    "        query_item_order.append(item[1])\n",
    "        query_item_score.append(pred[s])\n",
    "        s=s+1\n",
    "    temp=np.argsort(query_item_score)[::-1]\n",
    "    temp=temp.tolist()\n",
    "    query_item_order= np.array(query_item_order)\n",
    "    query_item_order = query_item_order[temp]\n",
    "    q_i[key]= query_item_order.tolist()"
   ]
  },
  {
   "cell_type": "code",
   "execution_count": null,
   "metadata": {},
   "outputs": [],
   "source": [
    "# Write to a file \n",
    "f= open(\"D:\\\\Courses\\\\InfoStorage\\\\Project\\\\Data\\\\submissions\\\\RankSVMAllFeaturesDoc2VecFullXp.txt\",\"w\")\n",
    "for key in q_i:\n",
    "    f.write(\"%s \" % key)\n",
    "    for index,item in enumerate(q_i.get(key)):\n",
    "        ll=len(q_i.get(key))-1\n",
    "        if index < ll:\n",
    "            f.write(\"%s,\" % item)\n",
    "        else:\n",
    "            f.write(\"%s\" % item)\n",
    "    f.write(\"\\n\")\n",
    "f.close()"
   ]
  },
  {
   "cell_type": "code",
   "execution_count": null,
   "metadata": {},
   "outputs": [],
   "source": []
  }
 ],
 "metadata": {
  "kernelspec": {
   "display_name": "Python 3",
   "language": "python",
   "name": "python3"
  },
  "language_info": {
   "codemirror_mode": {
    "name": "ipython",
    "version": 3
   },
   "file_extension": ".py",
   "mimetype": "text/x-python",
   "name": "python",
   "nbconvert_exporter": "python",
   "pygments_lexer": "ipython3",
   "version": "3.7.2"
  }
 },
 "nbformat": 4,
 "nbformat_minor": 2
}
