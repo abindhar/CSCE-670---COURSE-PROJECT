{
 "cells": [
  {
   "cell_type": "markdown",
   "metadata": {},
   "source": [
    "### NOTES\n",
    "1. Baseline code available in diginetica_baseline file. queries, products available in submission.txt file\n",
    "\n",
    "2. For future evaluaton, re-ranked files should be the format as submission.txt\n",
    "\n",
    "3. score. py modified to score the values. call score.py in the below way. saves the scores in the out put file.\n",
    "\n",
    "4. Valid.solution.csv is the valid solution. consists of IDCG for test queries and others.\n",
    "\n",
    "### METHOD TO RUN\n",
    "\n",
    "%run score.py  newly_Created_submission outputfileName valid.solution.csv\n",
    "\n",
    "(i.e 4 file inputs)\n"
   ]
  },
  {
   "cell_type": "code",
   "execution_count": 2,
   "metadata": {},
   "outputs": [],
   "source": [
    "%run Evaluation/score.py Baseline/baseline_submission.txt Baseline/NDCG_scores.txt Evaluation/valid.solution.csv"
   ]
  }
 ],
 "metadata": {
  "kernelspec": {
   "display_name": "Python 3",
   "language": "python",
   "name": "python3"
  },
  "language_info": {
   "codemirror_mode": {
    "name": "ipython",
    "version": 3
   },
   "file_extension": ".py",
   "mimetype": "text/x-python",
   "name": "python",
   "nbconvert_exporter": "python",
   "pygments_lexer": "ipython3",
   "version": "3.7.1"
  }
 },
 "nbformat": 4,
 "nbformat_minor": 2
}
