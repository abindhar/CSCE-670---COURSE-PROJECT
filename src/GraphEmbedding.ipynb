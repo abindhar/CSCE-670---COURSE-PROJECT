{
 "cells": [
  {
   "cell_type": "markdown",
   "metadata": {},
   "source": [
    "# Data Pre Processing"
   ]
  },
  {
   "cell_type": "code",
   "execution_count": 1,
   "metadata": {},
   "outputs": [],
   "source": [
    "### Comment Section\n",
    "\n",
    "#Data Description details link: https://competitions.codalab.org/competitions/11161#learn_the_details-data2\n",
    "\n",
    "#productCategoryID (serial) productID categoryID\n",
    "#productID (serial) priceLog2 (log-transformed product price) product.name.tokens (comma separated hashed product name tokens) imageName (name of the corresponding product image)\n",
    "\n",
    "#train-purchases.csv \n",
    "#sessionId (serial) timeframe (time since the first query in a session, in milliseconds) eventdate (calendar date) ordernumber (serial product orderID; groups all products purchased together ~ shopping cart; if a user bought several products, there are several records sharing the same ordernumber) itemId (purchased product)\n",
    "\n",
    "#train-item-views\n",
    "#sessionId userId itemId timeframe (time since the first query in a session, in milliseconds) eventdate (calendar date)\n",
    "\n",
    "#train_data\n",
    "#queryId (serial) sessionId (serial) userId (serial) timeframe (time since the first query in a session, in milliseconds) duration (page dwell time, in milliseconds) eventdate (calendar date) searchstring.tokens (comma separated hashed query tokens; empty if it is a query-less case) categoryId (product category ID; empty if it is a query-full session) items (productIDs returned by the default ranking algorithm on the SERP; this IDs must be re-ranked)."
   ]
  },
  {
   "cell_type": "code",
   "execution_count": null,
   "metadata": {},
   "outputs": [],
   "source": [
    "### possible features\n",
    "# UserId-> Range of Cost\n",
    "# Item rating? ->Based on purchases. Assumption more purchases, better rating\n",
    "# Ranking of items -> on a scale of 1-0. Shouldn't it be based on queryId, SessionId and then items?"
   ]
  },
  {
   "cell_type": "code",
   "execution_count": 2,
   "metadata": {},
   "outputs": [],
   "source": [
    "import os\n",
    "import pandas as pd\n",
    "import time\n",
    "import numpy as np"
   ]
  },
  {
   "cell_type": "code",
   "execution_count": 3,
   "metadata": {},
   "outputs": [
    {
     "name": "stdout",
     "output_type": "stream",
     "text": [
      "Data read took: 31.438726 seconds \n"
     ]
    },
    {
     "name": "stderr",
     "output_type": "stream",
     "text": [
      "D:\\Courses\\InfoStorage\\Anaconda\\envs\\cs670\\lib\\site-packages\\IPython\\core\\interactiveshell.py:3020: DtypeWarning: Columns (6) have mixed types. Specify dtype option on import or set low_memory=False.\n",
      "  interactivity=interactivity, compiler=compiler, result=result)\n"
     ]
    }
   ],
   "source": [
    "start = time. time()\n",
    "#parent_path_to_data\n",
    "path_to_data= \"D:\\Courses\\InfoStorage\\Project\\Data\\Data-20190409T171847Z-001\\Data\"\n",
    "#TO DO: Code refractor get os.cwd() and choose relative path.\n",
    "\n",
    "product_categories= pd.read_csv(path_to_data+\"\\product-categories.csv\",delimiter=\";\")\n",
    "\n",
    "products= pd.read_csv(path_to_data+\"\\products.csv\",delimiter=\";\")\n",
    "#Last Value in the list is actually the imageName\n",
    "products['imageName'] = products['product.name.tokens'].apply(lambda x: x.split(',')[-1])\n",
    "#Take out the last value as it is not a product name token\n",
    "products['product.name.tokens']=products['product.name.tokens'].apply(lambda x: x.split(',')[:-1])\n",
    "\n",
    "train_purchases= pd.read_csv(path_to_data+\"\\\\train-purchases.csv\",delimiter=\";\")\n",
    "#This data is against the format given there is a User ID with value NaN\n",
    "train_item_views= pd.read_csv(path_to_data+\"\\\\train-item-views.csv\",delimiter=\";\")\n",
    "#Some User Ids have a Value NaN\n",
    "\n",
    "train_clicks= pd.read_csv(path_to_data+\"\\\\train-clicks.csv\",delimiter=\";\")\n",
    "#QueryId TimeFrame ItemId\n",
    "\n",
    "combined_data= pd.read_csv(path_to_data+\"\\\\train-queries.csv\",delimiter=\";\")\n",
    "end = time. time()\n",
    "print(\"Data read took: %f seconds \" % (end-start))"
   ]
  },
  {
   "cell_type": "code",
   "execution_count": 7,
   "metadata": {},
   "outputs": [],
   "source": [
    "#Convert the date to the date format\n",
    "combined_data['eventdate'] = pd.to_datetime(combined_data[\"eventdate\"])\n",
    "\n",
    "#We focus only on query-full queries\n",
    "combined_data = combined_data[~combined_data[\"searchstring.tokens\"].isnull()]"
   ]
  },
  {
   "cell_type": "code",
   "execution_count": 10,
   "metadata": {},
   "outputs": [],
   "source": [
    "# Split QueryId-> item1,item2,item3 into 1:1 mapping \n",
    "# These are items that appeared after the query result\n",
    "query_item = []\n",
    "for session,query, items in combined_data[[\"sessionId\",\"queryId\", \"items\"]].values:\n",
    "    items = map(np.int64,items.split(','))\n",
    "    for i in items:\n",
    "        query_item.append( (session,query, i) )\n",
    "query_item = pd.DataFrame().from_records(query_item, columns=[\"sessionId\",\"queryId\",\"itemId\"])"
   ]
  },
  {
   "cell_type": "code",
   "execution_count": 15,
   "metadata": {},
   "outputs": [
    {
     "data": {
      "text/plain": [
       "40345"
      ]
     },
     "execution_count": 15,
     "metadata": {},
     "output_type": "execute_result"
    }
   ],
   "source": [
    "len(query_item['sessionId'].unique())"
   ]
  },
  {
   "cell_type": "code",
   "execution_count": 16,
   "metadata": {},
   "outputs": [
    {
     "data": {
      "text/html": [
       "<div>\n",
       "<style scoped>\n",
       "    .dataframe tbody tr th:only-of-type {\n",
       "        vertical-align: middle;\n",
       "    }\n",
       "\n",
       "    .dataframe tbody tr th {\n",
       "        vertical-align: top;\n",
       "    }\n",
       "\n",
       "    .dataframe thead th {\n",
       "        text-align: right;\n",
       "    }\n",
       "</style>\n",
       "<table border=\"1\" class=\"dataframe\">\n",
       "  <thead>\n",
       "    <tr style=\"text-align: right;\">\n",
       "      <th></th>\n",
       "      <th>sessionId</th>\n",
       "      <th>userId</th>\n",
       "      <th>itemId</th>\n",
       "      <th>timeframe</th>\n",
       "      <th>eventdate</th>\n",
       "    </tr>\n",
       "  </thead>\n",
       "  <tbody>\n",
       "    <tr>\n",
       "      <th>0</th>\n",
       "      <td>1</td>\n",
       "      <td>NaN</td>\n",
       "      <td>81766</td>\n",
       "      <td>526309</td>\n",
       "      <td>2016-05-09</td>\n",
       "    </tr>\n",
       "    <tr>\n",
       "      <th>1</th>\n",
       "      <td>1</td>\n",
       "      <td>NaN</td>\n",
       "      <td>31331</td>\n",
       "      <td>1031018</td>\n",
       "      <td>2016-05-09</td>\n",
       "    </tr>\n",
       "    <tr>\n",
       "      <th>2</th>\n",
       "      <td>1</td>\n",
       "      <td>NaN</td>\n",
       "      <td>32118</td>\n",
       "      <td>243569</td>\n",
       "      <td>2016-05-09</td>\n",
       "    </tr>\n",
       "    <tr>\n",
       "      <th>3</th>\n",
       "      <td>1</td>\n",
       "      <td>NaN</td>\n",
       "      <td>9654</td>\n",
       "      <td>75848</td>\n",
       "      <td>2016-05-09</td>\n",
       "    </tr>\n",
       "    <tr>\n",
       "      <th>4</th>\n",
       "      <td>1</td>\n",
       "      <td>NaN</td>\n",
       "      <td>32627</td>\n",
       "      <td>1112408</td>\n",
       "      <td>2016-05-09</td>\n",
       "    </tr>\n",
       "  </tbody>\n",
       "</table>\n",
       "</div>"
      ],
      "text/plain": [
       "   sessionId  userId  itemId  timeframe   eventdate\n",
       "0          1     NaN   81766     526309  2016-05-09\n",
       "1          1     NaN   31331    1031018  2016-05-09\n",
       "2          1     NaN   32118     243569  2016-05-09\n",
       "3          1     NaN    9654      75848  2016-05-09\n",
       "4          1     NaN   32627    1112408  2016-05-09"
      ]
     },
     "execution_count": 16,
     "metadata": {},
     "output_type": "execute_result"
    }
   ],
   "source": [
    "train_item_views.head()"
   ]
  },
  {
   "cell_type": "code",
   "execution_count": 17,
   "metadata": {},
   "outputs": [],
   "source": [
    "train_item_views['eventdate'] = pd.to_datetime(train_item_views[\"eventdate\"])\n",
    "train_item_views.sort_values([\"sessionId\", \"userId\", \"eventdate\", \"timeframe\", \"itemId\"], inplace=True)\n",
    "train_item_views= train_item_views.reset_index(drop=True)"
   ]
  },
  {
   "cell_type": "code",
   "execution_count": 18,
   "metadata": {},
   "outputs": [
    {
     "data": {
      "text/html": [
       "<div>\n",
       "<style scoped>\n",
       "    .dataframe tbody tr th:only-of-type {\n",
       "        vertical-align: middle;\n",
       "    }\n",
       "\n",
       "    .dataframe tbody tr th {\n",
       "        vertical-align: top;\n",
       "    }\n",
       "\n",
       "    .dataframe thead th {\n",
       "        text-align: right;\n",
       "    }\n",
       "</style>\n",
       "<table border=\"1\" class=\"dataframe\">\n",
       "  <thead>\n",
       "    <tr style=\"text-align: right;\">\n",
       "      <th></th>\n",
       "      <th>sessionId</th>\n",
       "      <th>userId</th>\n",
       "      <th>itemId</th>\n",
       "      <th>timeframe</th>\n",
       "      <th>eventdate</th>\n",
       "    </tr>\n",
       "  </thead>\n",
       "  <tbody>\n",
       "    <tr>\n",
       "      <th>0</th>\n",
       "      <td>1</td>\n",
       "      <td>NaN</td>\n",
       "      <td>9654</td>\n",
       "      <td>75848</td>\n",
       "      <td>2016-05-09</td>\n",
       "    </tr>\n",
       "    <tr>\n",
       "      <th>1</th>\n",
       "      <td>1</td>\n",
       "      <td>NaN</td>\n",
       "      <td>33043</td>\n",
       "      <td>173912</td>\n",
       "      <td>2016-05-09</td>\n",
       "    </tr>\n",
       "    <tr>\n",
       "      <th>2</th>\n",
       "      <td>1</td>\n",
       "      <td>NaN</td>\n",
       "      <td>32118</td>\n",
       "      <td>243569</td>\n",
       "      <td>2016-05-09</td>\n",
       "    </tr>\n",
       "    <tr>\n",
       "      <th>3</th>\n",
       "      <td>1</td>\n",
       "      <td>NaN</td>\n",
       "      <td>12352</td>\n",
       "      <td>329870</td>\n",
       "      <td>2016-05-09</td>\n",
       "    </tr>\n",
       "    <tr>\n",
       "      <th>4</th>\n",
       "      <td>1</td>\n",
       "      <td>NaN</td>\n",
       "      <td>35077</td>\n",
       "      <td>390072</td>\n",
       "      <td>2016-05-09</td>\n",
       "    </tr>\n",
       "  </tbody>\n",
       "</table>\n",
       "</div>"
      ],
      "text/plain": [
       "   sessionId  userId  itemId  timeframe  eventdate\n",
       "0          1     NaN    9654      75848 2016-05-09\n",
       "1          1     NaN   33043     173912 2016-05-09\n",
       "2          1     NaN   32118     243569 2016-05-09\n",
       "3          1     NaN   12352     329870 2016-05-09\n",
       "4          1     NaN   35077     390072 2016-05-09"
      ]
     },
     "execution_count": 18,
     "metadata": {},
     "output_type": "execute_result"
    }
   ],
   "source": [
    "train_item_views.head()"
   ]
  },
  {
   "cell_type": "code",
   "execution_count": 19,
   "metadata": {},
   "outputs": [],
   "source": [
    "train_clicks.sort_values([\"queryId\", \"timeframe\", \"itemId\"], inplace=True)\n",
    "train_clicks= train_clicks.reset_index(drop=True)"
   ]
  },
  {
   "cell_type": "code",
   "execution_count": 20,
   "metadata": {},
   "outputs": [
    {
     "data": {
      "text/html": [
       "<div>\n",
       "<style scoped>\n",
       "    .dataframe tbody tr th:only-of-type {\n",
       "        vertical-align: middle;\n",
       "    }\n",
       "\n",
       "    .dataframe tbody tr th {\n",
       "        vertical-align: top;\n",
       "    }\n",
       "\n",
       "    .dataframe thead th {\n",
       "        text-align: right;\n",
       "    }\n",
       "</style>\n",
       "<table border=\"1\" class=\"dataframe\">\n",
       "  <thead>\n",
       "    <tr style=\"text-align: right;\">\n",
       "      <th></th>\n",
       "      <th>queryId</th>\n",
       "      <th>timeframe</th>\n",
       "      <th>itemId</th>\n",
       "    </tr>\n",
       "  </thead>\n",
       "  <tbody>\n",
       "    <tr>\n",
       "      <th>0</th>\n",
       "      <td>1</td>\n",
       "      <td>16338861</td>\n",
       "      <td>24857</td>\n",
       "    </tr>\n",
       "    <tr>\n",
       "      <th>1</th>\n",
       "      <td>2</td>\n",
       "      <td>721764</td>\n",
       "      <td>36246</td>\n",
       "    </tr>\n",
       "    <tr>\n",
       "      <th>2</th>\n",
       "      <td>4</td>\n",
       "      <td>20684</td>\n",
       "      <td>13931</td>\n",
       "    </tr>\n",
       "    <tr>\n",
       "      <th>3</th>\n",
       "      <td>5</td>\n",
       "      <td>118873</td>\n",
       "      <td>35472</td>\n",
       "    </tr>\n",
       "    <tr>\n",
       "      <th>4</th>\n",
       "      <td>6</td>\n",
       "      <td>52095</td>\n",
       "      <td>73191</td>\n",
       "    </tr>\n",
       "  </tbody>\n",
       "</table>\n",
       "</div>"
      ],
      "text/plain": [
       "   queryId  timeframe  itemId\n",
       "0        1   16338861   24857\n",
       "1        2     721764   36246\n",
       "2        4      20684   13931\n",
       "3        5     118873   35472\n",
       "4        6      52095   73191"
      ]
     },
     "execution_count": 20,
     "metadata": {},
     "output_type": "execute_result"
    }
   ],
   "source": [
    "train_clicks.head() #what is time frame wrt to this?"
   ]
  },
  {
   "cell_type": "code",
   "execution_count": 21,
   "metadata": {},
   "outputs": [
    {
     "data": {
      "text/html": [
       "<div>\n",
       "<style scoped>\n",
       "    .dataframe tbody tr th:only-of-type {\n",
       "        vertical-align: middle;\n",
       "    }\n",
       "\n",
       "    .dataframe tbody tr th {\n",
       "        vertical-align: top;\n",
       "    }\n",
       "\n",
       "    .dataframe thead th {\n",
       "        text-align: right;\n",
       "    }\n",
       "</style>\n",
       "<table border=\"1\" class=\"dataframe\">\n",
       "  <thead>\n",
       "    <tr style=\"text-align: right;\">\n",
       "      <th></th>\n",
       "      <th>sessionId</th>\n",
       "      <th>userId</th>\n",
       "      <th>timeframe</th>\n",
       "      <th>eventdate</th>\n",
       "      <th>ordernumber</th>\n",
       "      <th>itemId</th>\n",
       "    </tr>\n",
       "  </thead>\n",
       "  <tbody>\n",
       "    <tr>\n",
       "      <th>0</th>\n",
       "      <td>150</td>\n",
       "      <td>18278.0</td>\n",
       "      <td>17100868</td>\n",
       "      <td>2016-05-06</td>\n",
       "      <td>16421</td>\n",
       "      <td>25911</td>\n",
       "    </tr>\n",
       "    <tr>\n",
       "      <th>1</th>\n",
       "      <td>151</td>\n",
       "      <td>NaN</td>\n",
       "      <td>6454547</td>\n",
       "      <td>2016-05-06</td>\n",
       "      <td>16290</td>\n",
       "      <td>175874</td>\n",
       "    </tr>\n",
       "    <tr>\n",
       "      <th>2</th>\n",
       "      <td>156</td>\n",
       "      <td>7.0</td>\n",
       "      <td>1721689387</td>\n",
       "      <td>2016-05-27</td>\n",
       "      <td>21173</td>\n",
       "      <td>35324</td>\n",
       "    </tr>\n",
       "    <tr>\n",
       "      <th>3</th>\n",
       "      <td>179</td>\n",
       "      <td>NaN</td>\n",
       "      <td>343001</td>\n",
       "      <td>2016-05-09</td>\n",
       "      <td>16924</td>\n",
       "      <td>31233</td>\n",
       "    </tr>\n",
       "    <tr>\n",
       "      <th>4</th>\n",
       "      <td>246</td>\n",
       "      <td>34.0</td>\n",
       "      <td>2311046</td>\n",
       "      <td>2016-05-09</td>\n",
       "      <td>16936</td>\n",
       "      <td>34677</td>\n",
       "    </tr>\n",
       "  </tbody>\n",
       "</table>\n",
       "</div>"
      ],
      "text/plain": [
       "   sessionId   userId   timeframe   eventdate  ordernumber  itemId\n",
       "0        150  18278.0    17100868  2016-05-06        16421   25911\n",
       "1        151      NaN     6454547  2016-05-06        16290  175874\n",
       "2        156      7.0  1721689387  2016-05-27        21173   35324\n",
       "3        179      NaN      343001  2016-05-09        16924   31233\n",
       "4        246     34.0     2311046  2016-05-09        16936   34677"
      ]
     },
     "execution_count": 21,
     "metadata": {},
     "output_type": "execute_result"
    }
   ],
   "source": [
    "train_purchases.head() # timeframe - time since the first query in a session, in milliseconds"
   ]
  },
  {
   "cell_type": "code",
   "execution_count": 22,
   "metadata": {},
   "outputs": [],
   "source": [
    "train_purchases.sort_values([\"sessionId\", \"userId\", \"eventdate\", \"timeframe\", \"itemId\", \"ordernumber\"], inplace=True)\n",
    "train_purchases= train_purchases.reset_index(drop=True)"
   ]
  },
  {
   "cell_type": "code",
   "execution_count": 23,
   "metadata": {},
   "outputs": [],
   "source": [
    "Train_data= combined_data.loc[combined_data['is.test']==False]\n",
    "Test_data= combined_data.loc[combined_data['is.test']==True]"
   ]
  },
  {
   "cell_type": "code",
   "execution_count": null,
   "metadata": {},
   "outputs": [],
   "source": [
    "#Some "
   ]
  },
  {
   "cell_type": "code",
   "execution_count": null,
   "metadata": {},
   "outputs": [],
   "source": []
  },
  {
   "cell_type": "code",
   "execution_count": null,
   "metadata": {},
   "outputs": [],
   "source": []
  },
  {
   "cell_type": "code",
   "execution_count": null,
   "metadata": {},
   "outputs": [],
   "source": []
  },
  {
   "cell_type": "code",
   "execution_count": null,
   "metadata": {},
   "outputs": [],
   "source": []
  }
 ],
 "metadata": {
  "kernelspec": {
   "display_name": "Python 3",
   "language": "python",
   "name": "python3"
  },
  "language_info": {
   "codemirror_mode": {
    "name": "ipython",
    "version": 3
   },
   "file_extension": ".py",
   "mimetype": "text/x-python",
   "name": "python",
   "nbconvert_exporter": "python",
   "pygments_lexer": "ipython3",
   "version": "3.7.2"
  }
 },
 "nbformat": 4,
 "nbformat_minor": 2
}
